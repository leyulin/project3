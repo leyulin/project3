{
 "cells": [
  {
   "cell_type": "markdown",
   "metadata": {},
   "source": [
    "# CS 696 Project\n",
    "## Titanic: Machine Learning from Disaster\n",
    "\n",
    "[![]( https://img.shields.io/badge/Python-v3.7-orange)]()\n",
    "[![](https://img.shields.io/badge/pandas-v1-blue)]()\n",
    "[![](https://img.shields.io/badge/sklearn-v0.2-red)]()\n",
    "\n",
    "#### Parth Thummar  824679473\n",
    "#### leyu,lin(Jack) 817372912"
   ]
  },
  {
   "cell_type": "markdown",
   "metadata": {},
   "source": [
    "***"
   ]
  },
  {
   "cell_type": "markdown",
   "metadata": {},
   "source": [
    "## Index\n",
    "*  <b>Introduction</b>\n",
    "  * [DataSet Source Link](https://www.kaggle.com/c/titanic)\n",
    "      * goal\n",
    "      * Imports\n",
    "      * <a href=\"#fp\">File Path</a>\n",
    "  * <a href=\"#check\">Data Checking</a>\n",
    "      * Miss values\n",
    "  * <a href=\"#model\">Obersvation & Questions</a>\n",
    "        * <a href=\"#Q1\">Question 1</a>\n",
    "        * <a href=\"#Q2\">Question 2</a>\n",
    "        * <a href=\"#Q3\">Question 3</a>\n",
    "        * <a href=\"#Q4\">Question 4</a>\n",
    "        * <a href=\"#Q5\">Question 5</a>\n",
    "        * <a href=\"#Q6\">Question 6</a>\n",
    "  * <a href=\"#TT\">Fix Missing Values</a>\n",
    "        * Randomforest fill values\n",
    "  * <a href=\"#ML\">ML Solve Problem</a>\n",
    "        * <a href=\"#LR\">Logistic Regression</a>\n",
    "        * <a href=\"#DT\">Random Forest</a>\n",
    "* <b><a href=\"#End\">Difficulties & Thoughts</a></b>"
   ]
  },
  {
   "cell_type": "markdown",
   "metadata": {},
   "source": [
    "***"
   ]
  },
  {
   "cell_type": "markdown",
   "metadata": {},
   "source": [
    "### Introduction"
   ]
  },
  {
   "cell_type": "markdown",
   "metadata": {},
   "source": [
    "This is a classic challenge from Kaggle. We are analyzing data from the Titanic to determine what may have determined whether you were survived or not. Some of these factors (that we will be analyzing below) include age, gender, ticket prices, family types, etc. As the actual movie Titanic portrayed how the rich vs poor were always favored, we wanted to see how some of other factors may have also resulted in the favorability of Surviving. "
   ]
  },
  {
   "cell_type": "markdown",
   "metadata": {},
   "source": [
    "#### goal"
   ]
  },
  {
   "cell_type": "markdown",
   "metadata": {},
   "source": [
    "The goal of this assignment was to analyze and infer patterns/circumstances that determined whether passengers were survived on the Titanic. Also complete this chanllege and see where we at in kaggle. These circumstances include \n",
    "age, gender, parents, # of siblings, the amount paid for a first class ticket versus non-first class, and many others. As we have seen from the actual movie Titanic, some of these circumstances did indeed determine whether someone was survived or not. However, Hollywood would can sometimes also sway details/facts for ratings, and so we both wanted to use statistical and factual data and machine learning to truly see/analyze if certain factors increased the chances of surviving versus not surviving. "
   ]
  },
  {
   "cell_type": "markdown",
   "metadata": {},
   "source": [
    "### Imports"
   ]
  },
  {
   "cell_type": "code",
   "execution_count": 1,
   "metadata": {},
   "outputs": [],
   "source": [
    "import pandas as pd\n",
    "import numpy as np\n",
    "import matplotlib.pylab as plt\n",
    "from pandas import DataFrame,Series"
   ]
  },
  {
   "cell_type": "markdown",
   "metadata": {},
   "source": [
    "### <a name=\"fp\">File Path</a>"
   ]
  },
  {
   "cell_type": "code",
   "execution_count": 2,
   "metadata": {},
   "outputs": [],
   "source": [
    "df_data = pd.read_csv(\"train.csv\")    \n",
    "df_test = pd.read_csv(\"test.csv\")    "
   ]
  },
  {
   "cell_type": "markdown",
   "metadata": {},
   "source": [
    "### <a name=\"check\">Data Checking</a>"
   ]
  },
  {
   "cell_type": "code",
   "execution_count": 3,
   "metadata": {},
   "outputs": [
    {
     "name": "stdout",
     "output_type": "stream",
     "text": [
      "<class 'pandas.core.frame.DataFrame'>\n",
      "RangeIndex: 891 entries, 0 to 890\n",
      "Data columns (total 12 columns):\n",
      " #   Column       Non-Null Count  Dtype  \n",
      "---  ------       --------------  -----  \n",
      " 0   PassengerId  891 non-null    int64  \n",
      " 1   Survived     891 non-null    int64  \n",
      " 2   Pclass       891 non-null    int64  \n",
      " 3   Name         891 non-null    object \n",
      " 4   Sex          891 non-null    object \n",
      " 5   Age          714 non-null    float64\n",
      " 6   SibSp        891 non-null    int64  \n",
      " 7   Parch        891 non-null    int64  \n",
      " 8   Ticket       891 non-null    object \n",
      " 9   Fare         891 non-null    float64\n",
      " 10  Cabin        204 non-null    object \n",
      " 11  Embarked     889 non-null    object \n",
      "dtypes: float64(2), int64(5), object(5)\n",
      "memory usage: 83.7+ KB\n"
     ]
    }
   ],
   "source": [
    "df_data.columns                       \n",
    "df_data.info()"
   ]
  },
  {
   "cell_type": "markdown",
   "metadata": {},
   "source": [
    "#### <a name=\"MV\">Missing Values</a>\n",
    "Age is not 891\n",
    "Cabin is not 891\n",
    "Embarked is not 891\n",
    "* if value is too high, may just delete it\n",
    "* if value is not numeric, add NaN column\n",
    "* In this case, age is an increasing series. May add step of 0.5 or\n",
    "add some value base on value we have, since data set was not large\n",
    "probably not goode idea"
   ]
  },
  {
   "cell_type": "code",
   "execution_count": 4,
   "metadata": {},
   "outputs": [
    {
     "data": {
      "text/html": [
       "<div>\n",
       "<style scoped>\n",
       "    .dataframe tbody tr th:only-of-type {\n",
       "        vertical-align: middle;\n",
       "    }\n",
       "\n",
       "    .dataframe tbody tr th {\n",
       "        vertical-align: top;\n",
       "    }\n",
       "\n",
       "    .dataframe thead th {\n",
       "        text-align: right;\n",
       "    }\n",
       "</style>\n",
       "<table border=\"1\" class=\"dataframe\">\n",
       "  <thead>\n",
       "    <tr style=\"text-align: right;\">\n",
       "      <th></th>\n",
       "      <th>PassengerId</th>\n",
       "      <th>Survived</th>\n",
       "      <th>Pclass</th>\n",
       "      <th>Age</th>\n",
       "      <th>SibSp</th>\n",
       "      <th>Parch</th>\n",
       "      <th>Fare</th>\n",
       "    </tr>\n",
       "  </thead>\n",
       "  <tbody>\n",
       "    <tr>\n",
       "      <th>count</th>\n",
       "      <td>891.000000</td>\n",
       "      <td>891.000000</td>\n",
       "      <td>891.000000</td>\n",
       "      <td>714.000000</td>\n",
       "      <td>891.000000</td>\n",
       "      <td>891.000000</td>\n",
       "      <td>891.000000</td>\n",
       "    </tr>\n",
       "    <tr>\n",
       "      <th>mean</th>\n",
       "      <td>446.000000</td>\n",
       "      <td>0.383838</td>\n",
       "      <td>2.308642</td>\n",
       "      <td>29.699118</td>\n",
       "      <td>0.523008</td>\n",
       "      <td>0.381594</td>\n",
       "      <td>32.204208</td>\n",
       "    </tr>\n",
       "    <tr>\n",
       "      <th>std</th>\n",
       "      <td>257.353842</td>\n",
       "      <td>0.486592</td>\n",
       "      <td>0.836071</td>\n",
       "      <td>14.526497</td>\n",
       "      <td>1.102743</td>\n",
       "      <td>0.806057</td>\n",
       "      <td>49.693429</td>\n",
       "    </tr>\n",
       "    <tr>\n",
       "      <th>min</th>\n",
       "      <td>1.000000</td>\n",
       "      <td>0.000000</td>\n",
       "      <td>1.000000</td>\n",
       "      <td>0.420000</td>\n",
       "      <td>0.000000</td>\n",
       "      <td>0.000000</td>\n",
       "      <td>0.000000</td>\n",
       "    </tr>\n",
       "    <tr>\n",
       "      <th>25%</th>\n",
       "      <td>223.500000</td>\n",
       "      <td>0.000000</td>\n",
       "      <td>2.000000</td>\n",
       "      <td>20.125000</td>\n",
       "      <td>0.000000</td>\n",
       "      <td>0.000000</td>\n",
       "      <td>7.910400</td>\n",
       "    </tr>\n",
       "    <tr>\n",
       "      <th>50%</th>\n",
       "      <td>446.000000</td>\n",
       "      <td>0.000000</td>\n",
       "      <td>3.000000</td>\n",
       "      <td>28.000000</td>\n",
       "      <td>0.000000</td>\n",
       "      <td>0.000000</td>\n",
       "      <td>14.454200</td>\n",
       "    </tr>\n",
       "    <tr>\n",
       "      <th>75%</th>\n",
       "      <td>668.500000</td>\n",
       "      <td>1.000000</td>\n",
       "      <td>3.000000</td>\n",
       "      <td>38.000000</td>\n",
       "      <td>1.000000</td>\n",
       "      <td>0.000000</td>\n",
       "      <td>31.000000</td>\n",
       "    </tr>\n",
       "    <tr>\n",
       "      <th>max</th>\n",
       "      <td>891.000000</td>\n",
       "      <td>1.000000</td>\n",
       "      <td>3.000000</td>\n",
       "      <td>80.000000</td>\n",
       "      <td>8.000000</td>\n",
       "      <td>6.000000</td>\n",
       "      <td>512.329200</td>\n",
       "    </tr>\n",
       "  </tbody>\n",
       "</table>\n",
       "</div>"
      ],
      "text/plain": [
       "       PassengerId    Survived      Pclass         Age       SibSp  \\\n",
       "count   891.000000  891.000000  891.000000  714.000000  891.000000   \n",
       "mean    446.000000    0.383838    2.308642   29.699118    0.523008   \n",
       "std     257.353842    0.486592    0.836071   14.526497    1.102743   \n",
       "min       1.000000    0.000000    1.000000    0.420000    0.000000   \n",
       "25%     223.500000    0.000000    2.000000   20.125000    0.000000   \n",
       "50%     446.000000    0.000000    3.000000   28.000000    0.000000   \n",
       "75%     668.500000    1.000000    3.000000   38.000000    1.000000   \n",
       "max     891.000000    1.000000    3.000000   80.000000    8.000000   \n",
       "\n",
       "            Parch        Fare  \n",
       "count  891.000000  891.000000  \n",
       "mean     0.381594   32.204208  \n",
       "std      0.806057   49.693429  \n",
       "min      0.000000    0.000000  \n",
       "25%      0.000000    7.910400  \n",
       "50%      0.000000   14.454200  \n",
       "75%      0.000000   31.000000  \n",
       "max      6.000000  512.329200  "
      ]
     },
     "execution_count": 4,
     "metadata": {},
     "output_type": "execute_result"
    }
   ],
   "source": [
    "df_data.describe()"
   ]
  },
  {
   "cell_type": "markdown",
   "metadata": {},
   "source": [
    "### <a name=\"model\">Observations & Questions</a>"
   ]
  },
  {
   "cell_type": "markdown",
   "metadata": {},
   "source": [
    "I put questions may interested below"
   ]
  },
  {
   "cell_type": "markdown",
   "metadata": {},
   "source": [
    "#### <a name=\"Q1\">1. Is embarked city, passenger class level, and sex associated with the number of people survived?</a>"
   ]
  },
  {
   "cell_type": "code",
   "execution_count": 5,
   "metadata": {},
   "outputs": [
    {
     "data": {
      "image/png": "[encoded data removed]",
      "text/plain": [
       "<Figure size 720x864 with 4 Axes>"
      ]
     },
     "metadata": {
      "needs_background": "light"
     },
     "output_type": "display_data"
    }
   ],
   "source": [
    "fig, axes = plt.subplots(nrows=2, ncols=2)\n",
    "\n",
    "# Embarked City\n",
    "Survived_0_ec=df_data.Embarked [df_data.Survived==0]\n",
    "Survived_1_ec=df_data.Embarked [df_data.Survived==1]\n",
    "df=DataFrame({'Not survived':Survived_0_ec.value_counts(),\n",
    "              'survived':Survived_1_ec.value_counts()})\n",
    "\n",
    "p1= df.plot(kind='bar',\n",
    "        stacked=True,\n",
    "        figsize=(10,12),\n",
    "        rot=0,\n",
    "        ax=axes[0,0])\n",
    "p1.set_xlabel(\"Embarked City (fig 1)\") \n",
    "p1.set_ylabel(\"Num ppl\")\n",
    "p1.set_title(\"Num people survived with Embarked City\")\n",
    "\n",
    "\n",
    "# Passenger class\n",
    "Survived_0_pc=df_data.Pclass [df_data.Survived==0]\n",
    "Survived_1_pc=df_data.Pclass [df_data.Survived==1]\n",
    "df=DataFrame({'Not survived':Survived_0_pc.value_counts(),\n",
    "              'survived':Survived_1_pc.value_counts()})\n",
    "\n",
    "p2= df.plot(kind='bar',\n",
    "        stacked=True,\n",
    "        figsize=(10,12),\n",
    "        rot=0,\n",
    "        ax=axes[0,1])\n",
    "\n",
    "p2.set_xlabel(\"Passenger class (fig 2)\") \n",
    "p2.set_ylabel(\"Num ppl\")\n",
    "p2.set_title(\"Num people survived with Passenger class\")\n",
    "\n",
    "\n",
    "# Gender\n",
    "Survived_0_sx=df_data.Sex [df_data.Survived==0]\n",
    "Survived_1_sx=df_data.Sex [df_data.Survived==1]\n",
    "df=DataFrame({'Not survived':Survived_0_sx.value_counts(),\n",
    "              'survived':Survived_1_sx.value_counts()})\n",
    "\n",
    "p3= df.plot(kind='bar',\n",
    "        stacked=True,\n",
    "        figsize=(10,12),\n",
    "        rot=0,\n",
    "        ax=axes[1,0])\n",
    "\n",
    "p3.set_xlabel(\"Gender (fig 3)\") \n",
    "p3.set_ylabel(\"Num ppl\")\n",
    "p3.set_title(\"Num people survived with Gender\")\n",
    "\n",
    "\n",
    "# Without all three above\n",
    "Survived_N= df_data.Survived[df_data.Survived==0]\n",
    "Survived_Y= df_data.Survived[df_data.Survived==1]\n",
    "df=DataFrame({'Y':Survived_Y.value_counts(),\n",
    "              'N':Survived_N.value_counts()})\n",
    "p4= df.plot(kind='bar',\n",
    "        figsize=(10,12),\n",
    "        rot=0,\n",
    "        ax=axes[1,1])\n",
    "\n",
    "p4.set_xlabel(\"survived (fig 4)\")\n",
    "p4.set_ylabel(\"population\")\n",
    "p4.set_title(\"Num people survived Y/N\")\n",
    "\n",
    "plt.legend(loc='upper right')\n",
    "plt.show()"
   ]
  },
  {
   "cell_type": "markdown",
   "metadata": {},
   "source": [
    "#### Fig 1. \n",
    "survived rate C> S > Q\n",
    "From [Wiki list](https://en.wikipedia.org/wiki/Passengers_of_the_RMS_Titanic) we know \n",
    "C stands for Cherbourg, S stands for Southampton, Q stands for Queenstown.\n",
    "Cherbourg seems best Embarked City\n",
    "\n",
    "#### Fig 2. \n",
    "survived rate 1 > 2 > 3\n",
    "class 3 Passengers most not survived\n",
    "\n",
    "#### Fig 3. \n",
    "survived rate female >> male\n",
    "female passengers haave significant survived rate compare to male \n",
    "\n",
    "#### Fig 4. \n",
    "total passengers survived more than passengers not survived"
   ]
  },
  {
   "cell_type": "markdown",
   "metadata": {},
   "source": [
    "#### <a name=\"Q2\">2. From question 1, Cherbourg and Class 1 has the better ratio. What passenger rate does each class have in each Embarked City? Is it associated with survived rate?</a>"
   ]
  },
  {
   "cell_type": "code",
   "execution_count": 6,
   "metadata": {},
   "outputs": [
    {
     "data": {
      "image/png": "[encoded data removed]",
      "text/plain": [
       "<Figure size 576x432 with 1 Axes>"
      ]
     },
     "metadata": {
      "needs_background": "light"
     },
     "output_type": "display_data"
    }
   ],
   "source": [
    "Pc1=df_data.Embarked [df_data.Pclass==1]\n",
    "Pc2=df_data.Embarked [df_data.Pclass==2]\n",
    "Pc3=df_data.Embarked [df_data.Pclass==3]\n",
    "\n",
    "df=DataFrame({'C1':Pc1.value_counts(),\n",
    "              'C2':Pc2.value_counts(),\n",
    "              'C3':Pc3.value_counts()})\n",
    "\n",
    "#replace names with letters\n",
    "df.index = {'Cherbourg':'C','Queenstown':'Q','Southampton':'S'}\n",
    "\n",
    "df.plot(kind='bar',\n",
    "        stacked=True,\n",
    "        figsize=(8,6),\n",
    "        rot=0)\n",
    "\n",
    "plt.xlabel(\"Embarked City\") \n",
    "plt.ylabel(\"Densisty\")\n",
    "plt.title(\"Embarked City with differ classes\")\n",
    "plt.show()"
   ]
  },
  {
   "cell_type": "markdown",
   "metadata": {},
   "source": [
    "#### From fig above. Queenstown City seems have no passenger is class 1, this may have huge impact on ratio"
   ]
  },
  {
   "cell_type": "code",
   "execution_count": 7,
   "metadata": {},
   "outputs": [
    {
     "data": {
      "text/html": [
       "<div>\n",
       "<style scoped>\n",
       "    .dataframe tbody tr th:only-of-type {\n",
       "        vertical-align: middle;\n",
       "    }\n",
       "\n",
       "    .dataframe tbody tr th {\n",
       "        vertical-align: top;\n",
       "    }\n",
       "\n",
       "    .dataframe thead th {\n",
       "        text-align: right;\n",
       "    }\n",
       "</style>\n",
       "<table border=\"1\" class=\"dataframe\">\n",
       "  <thead>\n",
       "    <tr style=\"text-align: right;\">\n",
       "      <th></th>\n",
       "      <th>PassengerId</th>\n",
       "      <th>Survived</th>\n",
       "      <th>Pclass</th>\n",
       "      <th>Name</th>\n",
       "      <th>Sex</th>\n",
       "      <th>Age</th>\n",
       "      <th>SibSp</th>\n",
       "      <th>Parch</th>\n",
       "      <th>Ticket</th>\n",
       "      <th>Fare</th>\n",
       "      <th>Cabin</th>\n",
       "      <th>Embarked</th>\n",
       "    </tr>\n",
       "  </thead>\n",
       "  <tbody>\n",
       "    <tr>\n",
       "      <th>245</th>\n",
       "      <td>246</td>\n",
       "      <td>0</td>\n",
       "      <td>1</td>\n",
       "      <td>Minahan, Dr. William Edward</td>\n",
       "      <td>male</td>\n",
       "      <td>44.0</td>\n",
       "      <td>2</td>\n",
       "      <td>0</td>\n",
       "      <td>19928</td>\n",
       "      <td>90.0</td>\n",
       "      <td>C78</td>\n",
       "      <td>Q</td>\n",
       "    </tr>\n",
       "    <tr>\n",
       "      <th>412</th>\n",
       "      <td>413</td>\n",
       "      <td>1</td>\n",
       "      <td>1</td>\n",
       "      <td>Minahan, Miss. Daisy E</td>\n",
       "      <td>female</td>\n",
       "      <td>33.0</td>\n",
       "      <td>1</td>\n",
       "      <td>0</td>\n",
       "      <td>19928</td>\n",
       "      <td>90.0</td>\n",
       "      <td>C78</td>\n",
       "      <td>Q</td>\n",
       "    </tr>\n",
       "  </tbody>\n",
       "</table>\n",
       "</div>"
      ],
      "text/plain": [
       "     PassengerId  Survived  Pclass                         Name     Sex   Age  \\\n",
       "245          246         0       1  Minahan, Dr. William Edward    male  44.0   \n",
       "412          413         1       1       Minahan, Miss. Daisy E  female  33.0   \n",
       "\n",
       "     SibSp  Parch Ticket  Fare Cabin Embarked  \n",
       "245      2      0  19928  90.0   C78        Q  \n",
       "412      1      0  19928  90.0   C78        Q  "
      ]
     },
     "execution_count": 7,
     "metadata": {},
     "output_type": "execute_result"
    }
   ],
   "source": [
    "# check this city how many class 1 it has\n",
    "df_data[(df_data.Pclass==1) & (df_data.Embarked =='Q')]"
   ]
  },
  {
   "cell_type": "markdown",
   "metadata": {},
   "source": [
    "Only 2 passenger is class 1 in Queenstown City, fig2 result may affected"
   ]
  },
  {
   "cell_type": "markdown",
   "metadata": {},
   "source": [
    "#### <a name=\"Q3\">3. From question 2 only 2 passengers in Queenstwon City is class 1. Why? Does it have to do with the ticket price?</a>"
   ]
  },
  {
   "cell_type": "code",
   "execution_count": 8,
   "metadata": {},
   "outputs": [
    {
     "data": {
      "image/png": "[encoded data removed]",
      "text/plain": [
       "<Figure size 576x432 with 1 Axes>"
      ]
     },
     "metadata": {
      "needs_background": "light"
     },
     "output_type": "display_data"
    }
   ],
   "source": [
    "ticket_price_C =df_data.Fare[df_data.Embarked =='C']\n",
    "ticket_price_Q =df_data.Fare[df_data.Embarked =='Q']\n",
    "ticket_price_S =df_data.Fare[df_data.Embarked =='S']\n",
    "\n",
    "df=DataFrame({'Cherbourg':ticket_price_C,\n",
    "              'Queenstown':ticket_price_Q,\n",
    "              'Southampton':ticket_price_S})\n",
    "\n",
    "df.plot(kind='kde',xlim=[-50,400],figsize=(8,6))\n",
    "plt.xlabel(\"Ticket_Price\") \n",
    "plt.ylabel(\"densitiy\")\n",
    "plt.title(\"Price of tickets with each Embarked City\")\n",
    "plt.show()"
   ]
  },
  {
   "cell_type": "markdown",
   "metadata": {},
   "source": [
    "Queenstown City price most at 0 - 50, Why class 1 is only 2 passenger? Is price affect class?"
   ]
  },
  {
   "cell_type": "code",
   "execution_count": 9,
   "metadata": {},
   "outputs": [
    {
     "data": {
      "image/png": "[encoded data removed]",
      "text/plain": [
       "<Figure size 576x432 with 1 Axes>"
      ]
     },
     "metadata": {
      "needs_background": "light"
     },
     "output_type": "display_data"
    }
   ],
   "source": [
    "#check class  associated with price \n",
    "ticket_price_p1 =df_data.Fare[df_data.Pclass==1]\n",
    "ticket_price_p2 =df_data.Fare[df_data.Pclass==2]\n",
    "ticket_price_p3 =df_data.Fare[df_data.Pclass==3]\n",
    "df=DataFrame({'C1':ticket_price_p1,\n",
    "              'C2':ticket_price_p2,\n",
    "              'C3':ticket_price_p3})\n",
    "\n",
    "df.plot(kind='kde',xlim=[-50,400],figsize=(8,6))\n",
    "\n",
    "plt.xlabel(\"Ticket_Price\") \n",
    "plt.ylabel(\"densitiy\")\n",
    "plt.title(\"Price of tickets with each class\")\n",
    "plt.show()"
   ]
  },
  {
   "cell_type": "markdown",
   "metadata": {},
   "source": [
    "Class 1 has it very low at 0-50, but has highest price. Passenger may not want to buy expensive class.\n",
    "Or passenger in Queenstown City is not rich. "
   ]
  },
  {
   "cell_type": "markdown",
   "metadata": {},
   "source": [
    "#### <a name=\"Q4\">4. If a passenger paid more, does it mean they have a higher chance of surviving?</a>"
   ]
  },
  {
   "cell_type": "code",
   "execution_count": 10,
   "metadata": {},
   "outputs": [
    {
     "data": {
      "image/png": "[encoded data removed]",
      "text/plain": [
       "<Figure size 576x432 with 1 Axes>"
      ]
     },
     "metadata": {
      "needs_background": "light"
     },
     "output_type": "display_data"
    }
   ],
   "source": [
    "survived_0price=df_data.Fare[df_data.Survived==0]\n",
    "survived_1price=df_data.Fare[df_data.Survived==1]\n",
    "df=DataFrame({'not survived':survived_0price,\n",
    "              'survived':survived_1price})\n",
    "\n",
    "df.plot(kind='kde',xlim=[-50,400],figsize=(8,6))\n",
    "\n",
    "plt.xlabel(\"Ticket_Price\") \n",
    "plt.ylabel(\"densitiy\")\n",
    "plt.title(\"Ticket price with Num ppl survived\")\n",
    "plt.show()"
   ]
  },
  {
   "cell_type": "markdown",
   "metadata": {},
   "source": [
    "The most passenger are at 0-50 range, as price go up, two line also match each other.\n",
    "If passenger pay more, may have higher chance of surviving."
   ]
  },
  {
   "cell_type": "markdown",
   "metadata": {},
   "source": [
    "#### <a name=\"Q5\">5. Does age do with the higher chance of surviving? Since younger people are stronger, however older people may have more money.</a>"
   ]
  },
  {
   "cell_type": "code",
   "execution_count": 11,
   "metadata": {},
   "outputs": [
    {
     "data": {
      "image/png": "[encoded data removed]",
      "text/plain": [
       "<Figure size 864x432 with 2 Axes>"
      ]
     },
     "metadata": {
      "needs_background": "light"
     },
     "output_type": "display_data"
    }
   ],
   "source": [
    "fig, axes = plt.subplots(nrows=1, ncols=2)\n",
    "\n",
    "survived_0age=df_data.Age[df_data.Survived==0]\n",
    "survived_1age=df_data.Age[df_data.Survived==1]\n",
    "\n",
    "df=DataFrame({'not survived':survived_0age,'survived':survived_1age})\n",
    "p1= df.plot(kind='kde',figsize=(12,6),ax=axes[0])\n",
    "p1.set_xlabel(\"Ticket_Price\") \n",
    "p1.set_ylabel(\"densitiy\")\n",
    "p1.set_title(\"ppl survived with ages \")\n",
    "\n",
    "p2= df_data.Age.plot(kind='kde',ax=axes[1])\n",
    "p2.set_xlabel(\"age\") \n",
    "p2.set_ylabel(\"Num ppl\")\n",
    "p2.set_title(\"Age distribution \")\n",
    "\n",
    "\n",
    "plt.show()"
   ]
  },
  {
   "cell_type": "markdown",
   "metadata": {},
   "source": [
    "Lots 20-40 not survived and below 10 most survived. What exact number in those range?"
   ]
  },
  {
   "cell_type": "code",
   "execution_count": 12,
   "metadata": {},
   "outputs": [
    {
     "data": {
      "text/plain": [
       "225"
      ]
     },
     "execution_count": 12,
     "metadata": {},
     "output_type": "execute_result"
    }
   ],
   "source": [
    "df_data.Age[(df_data.Age > 20) & (df_data.Age<40) & (df_data.Survived==0)].count()"
   ]
  },
  {
   "cell_type": "code",
   "execution_count": 13,
   "metadata": {},
   "outputs": [
    {
     "data": {
      "text/plain": [
       "372"
      ]
     },
     "execution_count": 13,
     "metadata": {},
     "output_type": "execute_result"
    }
   ],
   "source": [
    "df_data.Age[(df_data.Age > 20) & (df_data.Age<40)].count()"
   ]
  },
  {
   "cell_type": "code",
   "execution_count": 14,
   "metadata": {},
   "outputs": [
    {
     "data": {
      "text/plain": [
       "38"
      ]
     },
     "execution_count": 14,
     "metadata": {},
     "output_type": "execute_result"
    }
   ],
   "source": [
    "df_data.Age[(df_data.Age<10) & (df_data.Survived==1)].count()"
   ]
  },
  {
   "cell_type": "code",
   "execution_count": 15,
   "metadata": {},
   "outputs": [
    {
     "data": {
      "text/plain": [
       "62"
      ]
     },
     "execution_count": 15,
     "metadata": {},
     "output_type": "execute_result"
    }
   ],
   "source": [
    "# toatl number ppl age below 10\n",
    "df_data.Age[df_data.Age<10].count()"
   ]
  },
  {
   "cell_type": "markdown",
   "metadata": {},
   "source": [
    "225 out of 372 almost 60% people age between 20 and 40 not survived.. 38 out of 60 for age below 10 is very high "
   ]
  },
  {
   "cell_type": "markdown",
   "metadata": {},
   "source": [
    "#### <a name=\"Q6\">6. From question 4, people that are 20-40 years of age may have siblings or kids. Does that impact the survived rate? Suppose I have 10 siblings, I may have less chance. Or if I have 10 kids. Hard to rescue them all.</a>"
   ]
  },
  {
   "cell_type": "code",
   "execution_count": 16,
   "metadata": {},
   "outputs": [
    {
     "data": {
      "image/png": "[encoded data removed]",
      "text/plain": [
       "<Figure size 864x432 with 2 Axes>"
      ]
     },
     "metadata": {
      "needs_background": "light"
     },
     "output_type": "display_data"
    }
   ],
   "source": [
    "fig, axes = plt.subplots(nrows=1, ncols=2)\n",
    "\n",
    "survived_0SB=df_data.SibSp[df_data.Survived==0].value_counts()\n",
    "survived_1SB=df_data.SibSp[df_data.Survived==1].value_counts()\n",
    "\n",
    "total=survived_0SB + survived_1SB\n",
    "survived_rate=survived_1SB/total\n",
    "survived_rate=survived_rate.sort_index()\n",
    "\n",
    "p1 = survived_rate.plot(figsize=(12,6),ax=axes[0])\n",
    "p1.set_xlabel(\"Num Sibling\") \n",
    "p1.set_ylabel(\"survived rate(%)\")\n",
    "p1.set_title(\"Sibling with survived rate\")\n",
    "\n",
    "\n",
    "survived_0kid=df_data.Parch[df_data.Survived==0].value_counts()\n",
    "survived_1kid=df_data.Parch[df_data.Survived==1].value_counts()\n",
    "\n",
    "#fill those no has any kid or parent with 0\n",
    "survived_1kid=Series(survived_1kid,index=survived_0kid.index)\n",
    "survived_1kid=survived_1kid.fillna(0)\n",
    "\n",
    "total=survived_0kid + survived_1kid\n",
    "survived_rate_wkid=survived_1kid/total\n",
    "survived_rate_wkid=survived_rate_wkid.sort_index()\n",
    "\n",
    "p2 = survived_rate_wkid.plot(figsize=(12,6),ax=axes[1])\n",
    "p2.set_xlabel(\"Num kids/parents\") \n",
    "p2.set_ylabel(\"survived rate(%)\")\n",
    "p2.set_title(\"Parents/kids with survived rate\")\n",
    "\n",
    "\n",
    "plt.show()"
   ]
  },
  {
   "cell_type": "markdown",
   "metadata": {},
   "source": [
    "From fig above, we can infer that if passengers had more than 3 kids or have parents, it is harder to handle.\n",
    "1 sibling seems to have the highest survive rate, however, over 2 siblings has a significantly lower survived rate."
   ]
  },
  {
   "cell_type": "markdown",
   "metadata": {},
   "source": [
    "### <a name=\"TT\">Fix Missing Values</a> "
   ]
  },
  {
   "cell_type": "markdown",
   "metadata": {},
   "source": [
    "I was also inspired by this link [Titanic Report](https://www.math.lsu.edu/system/files/Titanic%20Report.pdf) "
   ]
  },
  {
   "cell_type": "code",
   "execution_count": 17,
   "metadata": {},
   "outputs": [
    {
     "name": "stdout",
     "output_type": "stream",
     "text": [
      "<class 'pandas.core.frame.DataFrame'>\n",
      "RangeIndex: 891 entries, 0 to 890\n",
      "Data columns (total 12 columns):\n",
      " #   Column       Non-Null Count  Dtype  \n",
      "---  ------       --------------  -----  \n",
      " 0   PassengerId  891 non-null    int64  \n",
      " 1   Survived     891 non-null    int64  \n",
      " 2   Pclass       891 non-null    int64  \n",
      " 3   Name         891 non-null    object \n",
      " 4   Sex          891 non-null    object \n",
      " 5   Age          714 non-null    float64\n",
      " 6   SibSp        891 non-null    int64  \n",
      " 7   Parch        891 non-null    int64  \n",
      " 8   Ticket       891 non-null    object \n",
      " 9   Fare         891 non-null    float64\n",
      " 10  Cabin        204 non-null    object \n",
      " 11  Embarked     889 non-null    object \n",
      "dtypes: float64(2), int64(5), object(5)\n",
      "memory usage: 83.7+ KB\n"
     ]
    }
   ],
   "source": [
    "df_data.info()"
   ]
  },
  {
   "cell_type": "markdown",
   "metadata": {},
   "source": [
    "#### cabin has lots missing and I looked up cant find online resource to fill it. So I mark Y/N to cabin."
   ]
  },
  {
   "cell_type": "code",
   "execution_count": 18,
   "metadata": {},
   "outputs": [],
   "source": [
    "def set_cabin_type(df):\n",
    "    df.loc[(df.Cabin.notnull()),'Cabin']='Y'\n",
    "    df.loc[(df.Cabin.isnull()),'Cabin']='N'\n",
    "    return df\n",
    "\n",
    "df_data=set_cabin_type(df_data)"
   ]
  },
  {
   "cell_type": "markdown",
   "metadata": {},
   "source": [
    "#### use RandomForest fill age from sklearn"
   ]
  },
  {
   "cell_type": "code",
   "execution_count": 19,
   "metadata": {},
   "outputs": [],
   "source": [
    "from sklearn.ensemble import RandomForestRegressor\n",
    "\n",
    "def set_missing_ages(df):\n",
    "    # put more features to randoemforest for better fit\n",
    "    df_age = df[['Age','Fare', 'Parch', 'SibSp', 'Pclass']]\n",
    "    age_known=df_age.loc[df_age.Age.notnull()].values \n",
    "    age_unknown=df_age.loc[df_age.Age.isnull()].values\n",
    "    X=age_known[:,1:]\n",
    "    y=age_known[:,0]\n",
    "    \n",
    "    # build model\n",
    "    model = RandomForestRegressor(random_state=0, n_estimators=2000, n_jobs=-1)\n",
    "    model.fit(X,y)\n",
    "    predictedAges=model.predict(age_unknown[:,1:])\n",
    "    df.loc[df.Age.isnull(),'Age']=predictedAges\n",
    "    return df,model\n",
    "\n",
    "df_data,model=set_missing_ages(df_data)  "
   ]
  },
  {
   "cell_type": "markdown",
   "metadata": {},
   "source": [
    "Since some features are either strings or objects, we need to mark them as numeric value."
   ]
  },
  {
   "cell_type": "code",
   "execution_count": 20,
   "metadata": {},
   "outputs": [],
   "source": [
    "num_cabin = pd.get_dummies(df_data.Cabin,prefix='Cabin') \n",
    "num_embarked = pd.get_dummies(df_data['Embarked'], prefix= 'Embarked')\n",
    "num_sex = pd.get_dummies(df_data['Sex'], prefix= 'Sex')\n",
    "num_pclass = pd.get_dummies(df_data['Pclass'], prefix= 'Pclass')\n",
    "\n",
    "df = pd.concat([df_data, num_cabin, num_embarked, num_sex, num_pclass], axis=1) \n",
    "#  clean prefix\n",
    "df.drop(['Pclass', 'Name', 'Sex', 'Ticket', 'Cabin', 'Embarked'], axis=1, inplace=True) "
   ]
  },
  {
   "cell_type": "markdown",
   "metadata": {},
   "source": [
    "Scaling. If the age gap is too large, it may affect the prediction."
   ]
  },
  {
   "cell_type": "code",
   "execution_count": 21,
   "metadata": {},
   "outputs": [],
   "source": [
    "from sklearn.preprocessing import StandardScaler\n",
    "scaler=StandardScaler()\n",
    "age_scale=scaler.fit(df.Age.values.reshape(-1,1))\n",
    "df['Age_Scale']=scaler.fit_transform(df.Age.values.reshape(-1,1),age_scale)\n",
    "\n",
    "fare_scale=scaler.fit(df.Fare.values.reshape(-1,1))\n",
    "df['Fare_Scale']=scaler.fit_transform(df.Age.values.reshape(-1,1),fare_scale)\n",
    "df.drop(['Age', 'Fare'], axis=1, inplace=True)"
   ]
  },
  {
   "cell_type": "markdown",
   "metadata": {},
   "source": [
    "### <a name=\"ML\">ML Solve Problem</a>"
   ]
  },
  {
   "cell_type": "markdown",
   "metadata": {},
   "source": [
    "#### <a name=\"LR\">Logistic Regression</a>"
   ]
  },
  {
   "cell_type": "markdown",
   "metadata": {},
   "source": [
    "Similarly, for test data, do what we did for train data."
   ]
  },
  {
   "cell_type": "code",
   "execution_count": 22,
   "metadata": {},
   "outputs": [
    {
     "data": {
      "text/plain": [
       "LogisticRegression(C=1.0, class_weight=None, dual=False, fit_intercept=True,\n",
       "                   intercept_scaling=1, l1_ratio=None, max_iter=100,\n",
       "                   multi_class='auto', n_jobs=None, penalty='l1',\n",
       "                   random_state=None, solver='liblinear', tol=1e-06, verbose=0,\n",
       "                   warm_start=False)"
      ]
     },
     "execution_count": 22,
     "metadata": {},
     "output_type": "execute_result"
    }
   ],
   "source": [
    "from sklearn.linear_model import LogisticRegression\n",
    "df_train=df.filter(regex='Survived|Age_.*|SibSp|Parch|Fare_.*|Cabin_.*|Embarked_.*|Sex_.*|Pclass_.*').values \n",
    "df_feature=df_train[:,1:]\n",
    "\n",
    "df_label=df_train[:,0]\n",
    "\n",
    "model_1=LogisticRegression(C=1.0, penalty='l1', tol=1e-6,solver='liblinear')\n",
    "\n",
    "model_1.fit(df_feature,df_label)\n",
    "model_1"
   ]
  },
  {
   "cell_type": "code",
   "execution_count": 23,
   "metadata": {},
   "outputs": [],
   "source": [
    "df_test.loc[df_test.Fare.isnull(),'Fare']=0\n",
    "df_test= set_cabin_type(df_test)\n",
    "age_data = df_test[['Age','Fare', 'Parch', 'SibSp', 'Pclass']]\n",
    "age_test=age_data[age_data.Age.isnull()].values\n",
    "\n",
    "predictedAges = model.predict(age_test[:,1:])\n",
    "df_test.loc[df_test.Age.isnull(),'Age'] = predictedAges\n",
    "\n",
    "# use get dummies since test is 418x13 but train is 819x13\n",
    "num_cabin = pd.get_dummies(df_test.Cabin, prefix= 'Cabin')\n",
    "num_sex = pd.get_dummies(df_test.Sex, prefix= 'Sex')\n",
    "num_pclass = pd.get_dummies(df_test.Pclass, prefix= 'Pclass')\n",
    "num_embarked = pd.get_dummies(df_test.Embarked, prefix= 'Embarked')\n",
    "\n",
    "df_test['Age_scaled'] = scaler.fit_transform(df_test['Age'].values.reshape(-1, 1), age_scale)\n",
    "df_test['Fare_scaled'] = scaler.fit_transform(df_test['Fare'].values.reshape(-1, 1), fare_scale)\n",
    "\n",
    "concated_df_test = pd.concat([df_test, num_cabin, num_embarked, num_sex, num_pclass], axis=1)\n",
    "concated_df_test.drop(['Pclass', 'Name', 'Sex', 'Ticket', 'Cabin', 'Embarked','Age','Fare'], axis=1, inplace=True)"
   ]
  },
  {
   "cell_type": "code",
   "execution_count": 24,
   "metadata": {},
   "outputs": [],
   "source": [
    "df_test_val = concated_df_test.values"
   ]
  },
  {
   "cell_type": "code",
   "execution_count": 25,
   "metadata": {},
   "outputs": [
    {
     "data": {
      "text/plain": [
       "array([1., 0., 1., 0., 0., 0., 1., 0., 0., 0., 0., 0., 0., 0., 0., 0., 1.,\n",
       "       0., 0., 0., 0., 0., 0., 0., 1., 0., 0., 0., 0., 0., 0., 0., 0., 0.,\n",
       "       0., 0., 0., 0., 0., 0., 0., 0., 0., 0., 0., 0., 0., 1., 0., 0., 0.,\n",
       "       0., 0., 1., 0., 1., 0., 0., 0., 1., 0., 0., 0., 1., 1., 0., 1., 0.,\n",
       "       0., 1., 1., 0., 0., 0., 1., 1., 0., 0., 0., 1., 0., 0., 0., 0., 1.,\n",
       "       0., 1., 0., 1., 0., 0., 0., 0., 0., 0., 0., 0., 0., 0., 0., 0., 0.,\n",
       "       1., 0., 0., 0., 1., 1., 0., 0., 0., 1., 0., 1., 0., 0., 0., 0., 0.,\n",
       "       0., 1., 1., 0., 0., 1., 0., 0., 1., 0., 0., 0., 0., 0., 0., 0., 0.,\n",
       "       0., 0., 0., 0., 0., 1., 0., 0., 0., 0., 0., 0., 0., 0., 0., 0., 0.,\n",
       "       0., 0., 0., 1., 0., 0., 0., 1., 0., 0., 0., 0., 0., 0., 0., 0., 0.,\n",
       "       0., 0., 0., 0., 0., 1., 1., 0., 0., 0., 0., 0., 0., 1., 1., 0., 0.,\n",
       "       0., 0., 0., 0., 0., 0., 1., 0., 0., 0., 0., 0., 0., 1., 0., 0., 0.,\n",
       "       0., 0., 1., 0., 0., 0., 0., 0., 1., 0., 0., 0., 1., 0., 0., 0., 0.,\n",
       "       0., 0., 0., 0., 0., 0., 1., 0., 0., 1., 0., 0., 1., 0., 0., 0., 0.,\n",
       "       0., 0., 0., 0., 0., 0., 0., 0., 1., 0., 0., 0., 1., 0., 0., 0., 0.,\n",
       "       0., 1., 0., 0., 0., 0., 0., 0., 0., 0., 0., 0., 0., 0., 0., 0., 1.,\n",
       "       0., 1., 0., 0., 0., 0., 0., 0., 0., 0., 1., 0., 0., 0., 0., 0., 0.,\n",
       "       0., 0., 1., 0., 0., 0., 0., 1., 0., 0., 0., 0., 0., 0., 0., 1., 0.,\n",
       "       0., 0., 0., 0., 0., 0., 0., 1., 0., 1., 0., 0., 0., 0., 0., 0., 0.,\n",
       "       0., 1., 0., 0., 0., 0., 0., 0., 0., 0., 0., 0., 0., 0., 0., 0., 0.,\n",
       "       0., 0., 0., 1., 0., 0., 0., 0., 0., 0., 0., 0., 1., 0., 0., 0., 0.,\n",
       "       0., 1., 0., 0., 0., 0., 0., 0., 0., 0., 0., 0., 0., 0., 0., 0., 0.,\n",
       "       0., 1., 0., 0., 0., 0., 1., 1., 0., 0., 0., 0., 0., 0., 1., 0., 0.,\n",
       "       0., 0., 0., 0., 0., 1., 0., 0., 1., 1., 0., 0., 0., 0., 0., 0., 0.,\n",
       "       1., 0., 1., 1., 0., 0., 0., 0., 0., 0.])"
      ]
     },
     "execution_count": 25,
     "metadata": {},
     "output_type": "execute_result"
    }
   ],
   "source": [
    "predict_result=model_1.predict(df_test_val[:,1:])\n",
    "predict_result"
   ]
  },
  {
   "cell_type": "markdown",
   "metadata": {},
   "source": [
    "construct dataframe output result csv"
   ]
  },
  {
   "cell_type": "code",
   "execution_count": 26,
   "metadata": {},
   "outputs": [
    {
     "data": {
      "text/html": [
       "<div>\n",
       "<style scoped>\n",
       "    .dataframe tbody tr th:only-of-type {\n",
       "        vertical-align: middle;\n",
       "    }\n",
       "\n",
       "    .dataframe tbody tr th {\n",
       "        vertical-align: top;\n",
       "    }\n",
       "\n",
       "    .dataframe thead th {\n",
       "        text-align: right;\n",
       "    }\n",
       "</style>\n",
       "<table border=\"1\" class=\"dataframe\">\n",
       "  <thead>\n",
       "    <tr style=\"text-align: right;\">\n",
       "      <th></th>\n",
       "      <th>PassengerId</th>\n",
       "      <th>Survived</th>\n",
       "    </tr>\n",
       "  </thead>\n",
       "  <tbody>\n",
       "    <tr>\n",
       "      <th>0</th>\n",
       "      <td>892</td>\n",
       "      <td>1</td>\n",
       "    </tr>\n",
       "    <tr>\n",
       "      <th>1</th>\n",
       "      <td>893</td>\n",
       "      <td>0</td>\n",
       "    </tr>\n",
       "    <tr>\n",
       "      <th>2</th>\n",
       "      <td>894</td>\n",
       "      <td>1</td>\n",
       "    </tr>\n",
       "    <tr>\n",
       "      <th>3</th>\n",
       "      <td>895</td>\n",
       "      <td>0</td>\n",
       "    </tr>\n",
       "    <tr>\n",
       "      <th>4</th>\n",
       "      <td>896</td>\n",
       "      <td>0</td>\n",
       "    </tr>\n",
       "    <tr>\n",
       "      <th>...</th>\n",
       "      <td>...</td>\n",
       "      <td>...</td>\n",
       "    </tr>\n",
       "    <tr>\n",
       "      <th>413</th>\n",
       "      <td>1305</td>\n",
       "      <td>0</td>\n",
       "    </tr>\n",
       "    <tr>\n",
       "      <th>414</th>\n",
       "      <td>1306</td>\n",
       "      <td>0</td>\n",
       "    </tr>\n",
       "    <tr>\n",
       "      <th>415</th>\n",
       "      <td>1307</td>\n",
       "      <td>0</td>\n",
       "    </tr>\n",
       "    <tr>\n",
       "      <th>416</th>\n",
       "      <td>1308</td>\n",
       "      <td>0</td>\n",
       "    </tr>\n",
       "    <tr>\n",
       "      <th>417</th>\n",
       "      <td>1309</td>\n",
       "      <td>0</td>\n",
       "    </tr>\n",
       "  </tbody>\n",
       "</table>\n",
       "<p>418 rows × 2 columns</p>\n",
       "</div>"
      ],
      "text/plain": [
       "     PassengerId  Survived\n",
       "0            892         1\n",
       "1            893         0\n",
       "2            894         1\n",
       "3            895         0\n",
       "4            896         0\n",
       "..           ...       ...\n",
       "413         1305         0\n",
       "414         1306         0\n",
       "415         1307         0\n",
       "416         1308         0\n",
       "417         1309         0\n",
       "\n",
       "[418 rows x 2 columns]"
      ]
     },
     "execution_count": 26,
     "metadata": {},
     "output_type": "execute_result"
    }
   ],
   "source": [
    "result = pd.DataFrame({'PassengerId':df_test['PassengerId'].values, 'Survived':predict_result.astype(np.int32)})\n",
    "result.to_csv(\"predict.csv\", index=False)\n",
    "pd.read_csv(\"predict.csv\")"
   ]
  },
  {
   "cell_type": "markdown",
   "metadata": {},
   "source": [
    "construct dataframe output result csv"
   ]
  },
  {
   "cell_type": "markdown",
   "metadata": {},
   "source": [
    "We submitted predict.csv to kaggle and got [kaggle score](https://www.kaggle.com/c/titanic/leaderboard#score) 63%.\n",
    "It was lower than what I expected"
   ]
  },
  {
   "cell_type": "markdown",
   "metadata": {},
   "source": [
    "#### <a name=\"DT\">Random Forest</a>"
   ]
  },
  {
   "cell_type": "markdown",
   "metadata": {},
   "source": [
    "We try to improve our score a bit. \n",
    "* group sibling and kid to 'family' \n",
    "* Omit cabin not label Y/N\n",
    "* fill age use median value\n",
    "* fill fare use median value\n",
    "* fill missing Embarked as letter S\n",
    "* Since S the City has most passenger from observation"
   ]
  },
  {
   "cell_type": "code",
   "execution_count": 27,
   "metadata": {},
   "outputs": [],
   "source": [
    "# fill fare use median value\n",
    "df_data[\"Fare\"] = df_data[\"Fare\"].fillna(df_data[\"Fare\"].median())\n",
    "df_test[\"Fare\"] = df_test[\"Fare\"].fillna(df_test[\"Fare\"].median())\n",
    "\n",
    "# group sibling and kid to 'family' \n",
    "df_data.insert(9,\"Family\", \"Empty\")\n",
    "df_data[\"Family\"] = df_data[\"SibSp\"] + df_data[\"Parch\"]\n",
    "df_test.insert(8,\"Family\", \"Empty\")\n",
    "df_test[\"Family\"] = df_test[\"SibSp\"] + df_test[\"Parch\"]\n",
    "\n",
    "#fill Embarked city\n",
    "df_data['Embarked'] = df_data['Embarked'].fillna('S')"
   ]
  },
  {
   "cell_type": "code",
   "execution_count": 28,
   "metadata": {},
   "outputs": [],
   "source": [
    "# Function that returns a table with the median age for passengers from a certain class, sex and title\n",
    "def calc_age(df, cl, sx):\n",
    "    a = df.groupby([\"Pclass\", \"Sex\"])[\"Age\"].median()\n",
    "    return a[cl][sx]\n",
    "\n",
    "# Loops over the df and replace the missing ages (train)\n",
    "for i, row in df_data.iterrows():\n",
    "    if pd.isna(row['Age']) :\n",
    "        newage = (calc_age(df_data, row[\"Pclass\"], row[\"Sex\"]))\n",
    "        df_data.at[i,'Age'] = newage\n",
    "    else: continue\n",
    "# Same for test data\n",
    "for i, row in df_test.iterrows():\n",
    "    if pd.isna(row['Age']) :\n",
    "        newage = (calc_age(df_test, row[\"Pclass\"], row[\"Sex\"]))\n",
    "        df_test.at[i,'Age'] = newage\n",
    "    else: continue"
   ]
  },
  {
   "cell_type": "code",
   "execution_count": 29,
   "metadata": {},
   "outputs": [
    {
     "data": {
      "text/html": [
       "<div>\n",
       "<style scoped>\n",
       "    .dataframe tbody tr th:only-of-type {\n",
       "        vertical-align: middle;\n",
       "    }\n",
       "\n",
       "    .dataframe tbody tr th {\n",
       "        vertical-align: top;\n",
       "    }\n",
       "\n",
       "    .dataframe thead th {\n",
       "        text-align: right;\n",
       "    }\n",
       "</style>\n",
       "<table border=\"1\" class=\"dataframe\">\n",
       "  <thead>\n",
       "    <tr style=\"text-align: right;\">\n",
       "      <th></th>\n",
       "      <th>PassengerId</th>\n",
       "      <th>Survived</th>\n",
       "    </tr>\n",
       "  </thead>\n",
       "  <tbody>\n",
       "    <tr>\n",
       "      <th>0</th>\n",
       "      <td>892</td>\n",
       "      <td>0</td>\n",
       "    </tr>\n",
       "    <tr>\n",
       "      <th>1</th>\n",
       "      <td>893</td>\n",
       "      <td>0</td>\n",
       "    </tr>\n",
       "    <tr>\n",
       "      <th>2</th>\n",
       "      <td>894</td>\n",
       "      <td>0</td>\n",
       "    </tr>\n",
       "    <tr>\n",
       "      <th>3</th>\n",
       "      <td>895</td>\n",
       "      <td>0</td>\n",
       "    </tr>\n",
       "    <tr>\n",
       "      <th>4</th>\n",
       "      <td>896</td>\n",
       "      <td>1</td>\n",
       "    </tr>\n",
       "    <tr>\n",
       "      <th>...</th>\n",
       "      <td>...</td>\n",
       "      <td>...</td>\n",
       "    </tr>\n",
       "    <tr>\n",
       "      <th>413</th>\n",
       "      <td>1305</td>\n",
       "      <td>0</td>\n",
       "    </tr>\n",
       "    <tr>\n",
       "      <th>414</th>\n",
       "      <td>1306</td>\n",
       "      <td>1</td>\n",
       "    </tr>\n",
       "    <tr>\n",
       "      <th>415</th>\n",
       "      <td>1307</td>\n",
       "      <td>0</td>\n",
       "    </tr>\n",
       "    <tr>\n",
       "      <th>416</th>\n",
       "      <td>1308</td>\n",
       "      <td>0</td>\n",
       "    </tr>\n",
       "    <tr>\n",
       "      <th>417</th>\n",
       "      <td>1309</td>\n",
       "      <td>0</td>\n",
       "    </tr>\n",
       "  </tbody>\n",
       "</table>\n",
       "<p>418 rows × 2 columns</p>\n",
       "</div>"
      ],
      "text/plain": [
       "     PassengerId  Survived\n",
       "0            892         0\n",
       "1            893         0\n",
       "2            894         0\n",
       "3            895         0\n",
       "4            896         1\n",
       "..           ...       ...\n",
       "413         1305         0\n",
       "414         1306         1\n",
       "415         1307         0\n",
       "416         1308         0\n",
       "417         1309         0\n",
       "\n",
       "[418 rows x 2 columns]"
      ]
     },
     "execution_count": 29,
     "metadata": {},
     "output_type": "execute_result"
    }
   ],
   "source": [
    "from sklearn.ensemble import RandomForestClassifier\n",
    "from sklearn.preprocessing import OneHotEncoder\n",
    "\n",
    "y = df_data[\"Survived\"]\n",
    "\n",
    "features = [\"Pclass\", \"Sex\", \"Family\", \"Fare\", \"Age\", \"Embarked\"]\n",
    "\n",
    "#encode_train = OneHotEncoder().fit_transform(df_data[features])\n",
    "#encode_test = OneHotEncoder().fit_transform(df_test[features])\n",
    "\n",
    "# use onehot encoder\n",
    "X = pd.get_dummies(df_data[features])\n",
    "X_test = pd.get_dummies(df_test[features])\n",
    "\n",
    "model = RandomForestClassifier(n_estimators=100, max_depth=5, random_state=1)\n",
    "model.fit(X, y)\n",
    "predictions = model.predict(X_test)\n",
    "\n",
    "result = pd.DataFrame({'PassengerId':df_test['PassengerId'].values, 'Survived':predictions.astype(np.int32)})\n",
    "result.to_csv(\"predict2.csv\", index=False)\n",
    "pd.read_csv(\"predict2.csv\")"
   ]
  },
  {
   "cell_type": "markdown",
   "metadata": {},
   "source": [
    "We submitted predict2.csv to kaggle and got [kaggle score](https://www.kaggle.com/c/titanic/leaderboard#score) 79%, \n",
    "a 16% improvement by using RandomForest."
   ]
  },
  {
   "cell_type": "markdown",
   "metadata": {},
   "source": [
    "### <a name=\"End\">Difficulties/Thoughts</a>"
   ]
  },
  {
   "cell_type": "markdown",
   "metadata": {},
   "source": [
    "The missing value was biggest challenge. The cabin was missing too much. I was think to just marked it with Yes or No, but it not go so well. Also the age was hard to fill. I notice some age has very huge gap and impact the results."
   ]
  },
  {
   "cell_type": "markdown",
   "metadata": {},
   "source": [
    "While we were not able to conclude on all factors we analyzed, we were able to show how certain factors that did prove to be essential in determining whether a passenger was survived over someone that was not. These factors included gender, class level within the ship, the amount the passenger paid for the ticket, and age. "
   ]
  },
  {
   "cell_type": "markdown",
   "metadata": {},
   "source": [
    "We learned fully analyze dataset is important before starting with modeal prediction. It can help us see the track of how it should be done in what ways. We also see so many ways for fill mising value. For example I fill missing Embarked City with 'S' base on obersvation I have done."
   ]
  },
  {
   "cell_type": "markdown",
   "metadata": {},
   "source": [
    "Overall, we feel were able to adequetly show certain patterns/factors that would have determined whether a passenger was survived or not. What definitely got in the way of our results was some data was missing such as cabin values. We used Linear Regression and RandomForest to try and improve the test and train data by filling in these missing values. Using Random Forest, were able to get a 16% improvement when submitted to kaggle score. \n"
   ]
  },
  {
   "cell_type": "markdown",
   "metadata": {},
   "source": [
    "nide write up\n",
    "100/100"
   ]
  }
 ],
 "metadata": {
  "kernelspec": {
   "display_name": "Python 3",
   "language": "python",
   "name": "python3"
  },
  "language_info": {
   "codemirror_mode": {
    "name": "ipython",
    "version": 3
   },
   "file_extension": ".py",
   "mimetype": "text/x-python",
   "name": "python",
   "nbconvert_exporter": "python",
   "pygments_lexer": "ipython3",
   "version": "3.7.4"
  }
 },
 "nbformat": 4,
 "nbformat_minor": 4
}
